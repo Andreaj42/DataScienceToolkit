{
 "cells": [
  {
   "cell_type": "markdown",
   "metadata": {
    "id": "xpAuMVCwfWs8"
   },
   "source": [
    "# Recurrent Neural Network"
   ]
  },
  {
   "cell_type": "markdown",
   "metadata": {
    "id": "nxJfRe4bfYVA"
   },
   "source": [
    "## Part 1 - Data Preprocessing"
   ]
  },
  {
   "cell_type": "markdown",
   "metadata": {
    "id": "ir9zwETrfbrp"
   },
   "source": [
    "### Importing the libraries"
   ]
  },
  {
   "cell_type": "code",
   "execution_count": 232,
   "metadata": {
    "id": "ZT1f24vHffuf"
   },
   "outputs": [],
   "source": [
    "import torch\n",
    "import torch.nn as nn\n",
    "import numpy as np\n",
    "import matplotlib.pyplot as plt\n",
    "import pandas as pd\n",
    "from sklearn.preprocessing import MinMaxScaler\n",
    "from torch.utils.data import DataLoader\n",
    "from tqdm import tqdm"
   ]
  },
  {
   "cell_type": "markdown",
   "metadata": {
    "id": "nQ47JAxrgmaL"
   },
   "source": [
    "### Importing the training set"
   ]
  },
  {
   "cell_type": "code",
   "execution_count": 233,
   "metadata": {},
   "outputs": [
    {
     "data": {
      "text/html": [
       "<div>\n",
       "<style scoped>\n",
       "    .dataframe tbody tr th:only-of-type {\n",
       "        vertical-align: middle;\n",
       "    }\n",
       "\n",
       "    .dataframe tbody tr th {\n",
       "        vertical-align: top;\n",
       "    }\n",
       "\n",
       "    .dataframe thead th {\n",
       "        text-align: right;\n",
       "    }\n",
       "</style>\n",
       "<table border=\"1\" class=\"dataframe\">\n",
       "  <thead>\n",
       "    <tr style=\"text-align: right;\">\n",
       "      <th></th>\n",
       "      <th>Date</th>\n",
       "      <th>Open</th>\n",
       "      <th>High</th>\n",
       "      <th>Low</th>\n",
       "      <th>Close</th>\n",
       "      <th>Volume</th>\n",
       "    </tr>\n",
       "  </thead>\n",
       "  <tbody>\n",
       "    <tr>\n",
       "      <th>0</th>\n",
       "      <td>1/3/2012</td>\n",
       "      <td>325.25</td>\n",
       "      <td>332.83</td>\n",
       "      <td>324.97</td>\n",
       "      <td>663.59</td>\n",
       "      <td>7,380,500</td>\n",
       "    </tr>\n",
       "    <tr>\n",
       "      <th>1</th>\n",
       "      <td>1/4/2012</td>\n",
       "      <td>331.27</td>\n",
       "      <td>333.87</td>\n",
       "      <td>329.08</td>\n",
       "      <td>666.45</td>\n",
       "      <td>5,749,400</td>\n",
       "    </tr>\n",
       "    <tr>\n",
       "      <th>2</th>\n",
       "      <td>1/5/2012</td>\n",
       "      <td>329.83</td>\n",
       "      <td>330.75</td>\n",
       "      <td>326.89</td>\n",
       "      <td>657.21</td>\n",
       "      <td>6,590,300</td>\n",
       "    </tr>\n",
       "    <tr>\n",
       "      <th>3</th>\n",
       "      <td>1/6/2012</td>\n",
       "      <td>328.34</td>\n",
       "      <td>328.77</td>\n",
       "      <td>323.68</td>\n",
       "      <td>648.24</td>\n",
       "      <td>5,405,900</td>\n",
       "    </tr>\n",
       "    <tr>\n",
       "      <th>4</th>\n",
       "      <td>1/9/2012</td>\n",
       "      <td>322.04</td>\n",
       "      <td>322.29</td>\n",
       "      <td>309.46</td>\n",
       "      <td>620.76</td>\n",
       "      <td>11,688,800</td>\n",
       "    </tr>\n",
       "  </tbody>\n",
       "</table>\n",
       "</div>"
      ],
      "text/plain": [
       "       Date    Open    High     Low   Close      Volume\n",
       "0  1/3/2012  325.25  332.83  324.97  663.59   7,380,500\n",
       "1  1/4/2012  331.27  333.87  329.08  666.45   5,749,400\n",
       "2  1/5/2012  329.83  330.75  326.89  657.21   6,590,300\n",
       "3  1/6/2012  328.34  328.77  323.68  648.24   5,405,900\n",
       "4  1/9/2012  322.04  322.29  309.46  620.76  11,688,800"
      ]
     },
     "execution_count": 233,
     "metadata": {},
     "output_type": "execute_result"
    }
   ],
   "source": [
    "# Read the train data frame\n",
    "dataset_train = pd.read_csv(\"data/Google_Stock_Price_Train.csv\")\n",
    "dataset_train.head()"
   ]
  },
  {
   "cell_type": "code",
   "execution_count": 234,
   "metadata": {
    "id": "1xiv3pJOgqY3",
    "scrolled": true
   },
   "outputs": [
    {
     "data": {
      "text/plain": [
       "array([7380500., 5749400., 6590300., ..., 1153800.,  744300., 1770000.])"
      ]
     },
     "execution_count": 234,
     "metadata": {},
     "output_type": "execute_result"
    }
   ],
   "source": [
    "# Convert the value to predict in numpy array\n",
    "dataset_train[\"Volume\"] = dataset_train[\"Volume\"].str.replace(',', '').astype(float)\n",
    "volume_train = dataset_train[\"Volume\"].values\n",
    "volume_train"
   ]
  },
  {
   "cell_type": "markdown",
   "metadata": {
    "id": "HT8_2UJegtG5"
   },
   "source": [
    "### Feature Scaling"
   ]
  },
  {
   "cell_type": "code",
   "execution_count": 235,
   "metadata": {
    "id": "OTrF2kR7gx9x"
   },
   "outputs": [
    {
     "data": {
      "text/plain": [
       "array([[0.29525831],\n",
       "       [0.22993592],\n",
       "       [0.26361233],\n",
       "       ...,\n",
       "       [0.04589107],\n",
       "       [0.02949139],\n",
       "       [0.07056868]])"
      ]
     },
     "execution_count": 235,
     "metadata": {},
     "output_type": "execute_result"
    }
   ],
   "source": [
    "# Use the normalization transformation to the nparray (MinMaxScaler)\n",
    "scaler = MinMaxScaler(feature_range=(0, 1))\n",
    "volume_train = scaler.fit_transform(volume_train.reshape(-1, 1))\n",
    "volume_train"
   ]
  },
  {
   "cell_type": "markdown",
   "metadata": {
    "id": "JyYgYocqhNUg"
   },
   "source": [
    "### Creating a data structure with 60 timesteps and 1 output"
   ]
  },
  {
   "cell_type": "code",
   "execution_count": 236,
   "metadata": {
    "id": "iofU21B0i6ST"
   },
   "outputs": [],
   "source": [
    "# For each financial day, you will take into account the stock price of the 60 \n",
    "# previous days to predict the future stock price build X_train and y_train according to this\n",
    "\n",
    "x_train = []\n",
    "y_train = []\n",
    "\n",
    "for i in range(60, len(volume_train)):\n",
    "    x_train.append(volume_train[i-60:i, 0])\n",
    "    y_train.append(volume_train[i, 0])\n",
    "\n",
    "# X_train and y_train must be numpy arrays\n",
    "x_train = np.array(x_train)\n",
    "y_train = np.array(y_train)\n",
    "\n",
    "#x_train = np.reshape(x_train, (x_train.shape[0], x_train.shape[1], 1))\n",
    "x_train = x_train.reshape(-1, 1, 60)"
   ]
  },
  {
   "cell_type": "markdown",
   "metadata": {
    "id": "D8yaN7Zvi95l"
   },
   "source": [
    "### Building the dataloader"
   ]
  },
  {
   "cell_type": "code",
   "execution_count": 237,
   "metadata": {
    "id": "FOXqJHmNjBkz"
   },
   "outputs": [],
   "source": [
    "# Convert your data to PyTorch float tensors\n",
    "x_train = torch.tensor(x_train, dtype=torch.float32)\n",
    "y_train = torch.tensor(y_train, dtype=torch.float32)\n",
    "\n",
    "# Build the DataLoader with batch of size 32\n",
    "x_train = DataLoader(dataset=x_train, batch_size=32)\n",
    "y_train = DataLoader(dataset=y_train, batch_size=32)\n"
   ]
  },
  {
   "cell_type": "markdown",
   "metadata": {
    "id": "ZRRSOJeVjEWV"
   },
   "source": [
    "## Part 2 - Building and Training the RNN"
   ]
  },
  {
   "cell_type": "markdown",
   "metadata": {
    "id": "FEIE-1s9jNzC"
   },
   "source": [
    "### Define the RNN model"
   ]
  },
  {
   "cell_type": "code",
   "execution_count": 238,
   "metadata": {
    "id": "1338dJ0UjRKH"
   },
   "outputs": [],
   "source": [
    "# Build a class for your model\n",
    "# The model will contains LSTM layers with 50 memory units (or neurons) and two layers by default,\n",
    "# Set a dropout regularisation with a rate of 0.2\n",
    "# Finally add the output Linear layer, the output will be of one dimension (one stock price predicted)\n",
    "\n",
    "class StockPricePredictor(nn.Module):\n",
    "    def __init__(self):\n",
    "        super(StockPricePredictor, self).__init__()\n",
    "        self.lstm = nn.LSTM(input_size=60, hidden_size=50,\n",
    "                            num_layers=2, dropout=0.2)\n",
    "        self.linear = nn.Linear(50, 1)\n",
    "\n",
    "    def forward(self, x):\n",
    "        h0 = torch.zeros(2, x.size(1), 50)\n",
    "        c0 = torch.zeros(2, x.size(1), 50)\n",
    "        \n",
    "        out, _ = self.lstm(x, (h0, c0))  \n",
    "        out = self.linear(out[:, -1, :])\n",
    "        return out\n"
   ]
  },
  {
   "cell_type": "markdown",
   "metadata": {
    "id": "RkJ4icm-4Ncs"
   },
   "source": [
    "### Instantiate the model, loss function, and optimizer"
   ]
  },
  {
   "cell_type": "markdown",
   "metadata": {
    "id": "-mPhwKGkkebi"
   },
   "source": [
    "### Fitting the RNN to the Training set"
   ]
  },
  {
   "cell_type": "code",
   "execution_count": 239,
   "metadata": {
    "id": "XTrhVN-tkbko"
   },
   "outputs": [],
   "source": [
    "# Set the device to gpu if possible else to cpu\n",
    "device = torch.device('cuda' if torch.cuda.is_available() else 'cpu')\n",
    "\n",
    "# Instantiate the RNN with Adam optimizer and the mean squared error as loss function, put the RNN on the device\n",
    "rnn = StockPricePredictor()\n",
    "rnn = rnn.to(device)\n",
    "criterion = nn.MSELoss()\n",
    "optimizer = torch.optim.Adam(rnn.parameters())"
   ]
  },
  {
   "cell_type": "code",
   "execution_count": 240,
   "metadata": {
    "id": "I06Nkrz5kkb-"
   },
   "outputs": [
    {
     "name": "stderr",
     "output_type": "stream",
     "text": [
      "  0%|          | 0/100 [00:00<?, ?it/s]C:\\Users\\Joly-\\AppData\\Local\\Packages\\PythonSoftwareFoundation.Python.3.11_qbz5n2kfra8p0\\LocalCache\\local-packages\\Python311\\site-packages\\torch\\nn\\modules\\loss.py:535: UserWarning: Using a target size (torch.Size([32])) that is different to the input size (torch.Size([32, 1])). This will likely lead to incorrect results due to broadcasting. Please ensure they have the same size.\n",
      "  return F.mse_loss(input, target, reduction=self.reduction)\n",
      "C:\\Users\\Joly-\\AppData\\Local\\Packages\\PythonSoftwareFoundation.Python.3.11_qbz5n2kfra8p0\\LocalCache\\local-packages\\Python311\\site-packages\\torch\\nn\\modules\\loss.py:535: UserWarning: Using a target size (torch.Size([14])) that is different to the input size (torch.Size([14, 1])). This will likely lead to incorrect results due to broadcasting. Please ensure they have the same size.\n",
      "  return F.mse_loss(input, target, reduction=self.reduction)\n",
      "100%|██████████| 100/100 [00:15<00:00,  6.52it/s]\n"
     ]
    },
    {
     "data": {
      "image/png": "[encoded data removed]",
      "text/plain": [
       "<Figure size 1000x600 with 1 Axes>"
      ]
     },
     "metadata": {},
     "output_type": "display_data"
    }
   ],
   "source": [
    "# Train the model using the training set using 100 epochs and a batch size of 32\n",
    "# This will take some time.\n",
    "\n",
    "losses = []\n",
    "rnn.train()\n",
    "for epoch in tqdm(range(100)):\n",
    "    loss_t = 0\n",
    "    for x_data, y_data in zip(x_train, y_train):\n",
    "        optimizer.zero_grad()\n",
    "        output = rnn(x_data)\n",
    "        loss = criterion(output, y_data)\n",
    "        loss.backward()\n",
    "        optimizer.step()\n",
    "        loss_t += loss.item()\n",
    "    losses.append(loss_t)\n",
    "        \n",
    "# Do you see loss value converge ?\n",
    "# DO you think the model have overfit the training data ?\n",
    "fig, ax1 = plt.subplots(figsize=(10, 6))\n",
    "\n",
    "ax1.plot(losses, label='Loss')\n",
    "ax1.set_xlabel('Epochs')\n",
    "ax1.set_ylabel('Loss')\n",
    "plt.legend()\n",
    "plt.show()"
   ]
  },
  {
   "cell_type": "markdown",
   "metadata": {
    "id": "4hRau_lIkrE8"
   },
   "source": [
    "## Part 3 - Making the predictions and visualising the results"
   ]
  },
  {
   "cell_type": "markdown",
   "metadata": {
    "id": "SgJO6qEDksxD"
   },
   "source": [
    "### Getting the real stock price of 2017"
   ]
  },
  {
   "cell_type": "code",
   "execution_count": 241,
   "metadata": {
    "id": "FmBT2zqukxTz"
   },
   "outputs": [
    {
     "data": {
      "text/html": [
       "<div>\n",
       "<style scoped>\n",
       "    .dataframe tbody tr th:only-of-type {\n",
       "        vertical-align: middle;\n",
       "    }\n",
       "\n",
       "    .dataframe tbody tr th {\n",
       "        vertical-align: top;\n",
       "    }\n",
       "\n",
       "    .dataframe thead th {\n",
       "        text-align: right;\n",
       "    }\n",
       "</style>\n",
       "<table border=\"1\" class=\"dataframe\">\n",
       "  <thead>\n",
       "    <tr style=\"text-align: right;\">\n",
       "      <th></th>\n",
       "      <th>Date</th>\n",
       "      <th>Open</th>\n",
       "      <th>High</th>\n",
       "      <th>Low</th>\n",
       "      <th>Close</th>\n",
       "      <th>Volume</th>\n",
       "    </tr>\n",
       "  </thead>\n",
       "  <tbody>\n",
       "    <tr>\n",
       "      <th>0</th>\n",
       "      <td>1/3/2017</td>\n",
       "      <td>778.81</td>\n",
       "      <td>789.63</td>\n",
       "      <td>775.80</td>\n",
       "      <td>786.14</td>\n",
       "      <td>1657300.0</td>\n",
       "    </tr>\n",
       "    <tr>\n",
       "      <th>1</th>\n",
       "      <td>1/4/2017</td>\n",
       "      <td>788.36</td>\n",
       "      <td>791.34</td>\n",
       "      <td>783.16</td>\n",
       "      <td>786.90</td>\n",
       "      <td>1073000.0</td>\n",
       "    </tr>\n",
       "    <tr>\n",
       "      <th>2</th>\n",
       "      <td>1/5/2017</td>\n",
       "      <td>786.08</td>\n",
       "      <td>794.48</td>\n",
       "      <td>785.02</td>\n",
       "      <td>794.02</td>\n",
       "      <td>1335200.0</td>\n",
       "    </tr>\n",
       "    <tr>\n",
       "      <th>3</th>\n",
       "      <td>1/6/2017</td>\n",
       "      <td>795.26</td>\n",
       "      <td>807.90</td>\n",
       "      <td>792.20</td>\n",
       "      <td>806.15</td>\n",
       "      <td>1640200.0</td>\n",
       "    </tr>\n",
       "    <tr>\n",
       "      <th>4</th>\n",
       "      <td>1/9/2017</td>\n",
       "      <td>806.40</td>\n",
       "      <td>809.97</td>\n",
       "      <td>802.83</td>\n",
       "      <td>806.65</td>\n",
       "      <td>1272400.0</td>\n",
       "    </tr>\n",
       "  </tbody>\n",
       "</table>\n",
       "</div>"
      ],
      "text/plain": [
       "       Date    Open    High     Low   Close     Volume\n",
       "0  1/3/2017  778.81  789.63  775.80  786.14  1657300.0\n",
       "1  1/4/2017  788.36  791.34  783.16  786.90  1073000.0\n",
       "2  1/5/2017  786.08  794.48  785.02  794.02  1335200.0\n",
       "3  1/6/2017  795.26  807.90  792.20  806.15  1640200.0\n",
       "4  1/9/2017  806.40  809.97  802.83  806.65  1272400.0"
      ]
     },
     "execution_count": 241,
     "metadata": {},
     "output_type": "execute_result"
    }
   ],
   "source": [
    "# Read the test data sample and convert to numpy array using Stock Value\n",
    "dataset_test = pd.read_csv(\"data/Google_Stock_Price_Test.csv\")\n",
    "dataset_test = dataset_test.rename(columns={'Unnamed: 0': 'Date'})\n",
    "\n",
    "dataset_test['Volume'] = dataset_test[\"Volume\"].str.replace(',', '').astype(float)\n",
    "dataset_test.head()"
   ]
  },
  {
   "cell_type": "markdown",
   "metadata": {
    "id": "GrvrLblxkz42"
   },
   "source": [
    "### Getting the predicted stock price of 2017"
   ]
  },
  {
   "cell_type": "code",
   "execution_count": 242,
   "metadata": {
    "id": "emikTvUpk3Ck"
   },
   "outputs": [],
   "source": [
    "# Prepare the test input data as the input training data:\n",
    "# As we use the 60 previous day for each financial day for the training,\n",
    "# we have to build the same structure for the test data.\n",
    "# 1. For each financial day of the test set, you need to use the 60 previous day\n",
    "# values, so you need to concatenate train and test set.\n",
    "# 2. Use the normalization transformation after the concatenation.\n",
    "# 3. For each financial day of the test set, get the 60 previous day values\n",
    "# 4. Create the 3D data : add the new dimension by reshaping the array\n",
    "# hint : if you get any numpy shape warning, use the method reshape(-1,1) on your numpy array\n",
    "\n",
    "dataset_test = pd.concat((dataset_train, dataset_test))\n",
    "\n",
    "volume_test = dataset_test[\"Volume\"].values\n",
    "\n",
    "scaler = MinMaxScaler(feature_range=(0, 1))\n",
    "volume_test = scaler.fit_transform(volume_test.reshape(-1, 1))\n",
    "\n",
    "x_test = []\n",
    "y_test = []\n",
    "for i in range(1258, len(volume_test)):\n",
    "    x_test.append(volume_test[i-60:i, 0])\n",
    "    y_test.append(volume_test[i, 0])\n",
    "    \n",
    "x_test = np.array(x_test)\n",
    "y_test = np.array(y_test)\n",
    "\n",
    "x_test = x_test.reshape(-1, 1, 60)\n",
    "\n",
    "# Convert to PyTorch tensor\n",
    "x_test = torch.tensor(x_test, dtype=torch.float32)\n",
    "y_test = torch.tensor(y_test, dtype=torch.float32)\n",
    "\n",
    "x_test = DataLoader(dataset=x_test, batch_size=32)\n",
    "y_test = DataLoader(dataset=y_test, batch_size=32)"
   ]
  },
  {
   "cell_type": "markdown",
   "metadata": {
    "id": "RVLwknyo4Nct"
   },
   "source": [
    "### Make predictions on test data"
   ]
  },
  {
   "cell_type": "code",
   "execution_count": 246,
   "metadata": {
    "id": "l4kvySOH4Ncu"
   },
   "outputs": [
    {
     "name": "stderr",
     "output_type": "stream",
     "text": [
      "100%|██████████| 1/1 [00:00<00:00, 500.16it/s]"
     ]
    },
    {
     "name": "stdout",
     "output_type": "stream",
     "text": [
      "RMSE: 1501505.5428695541\n"
     ]
    },
    {
     "name": "stderr",
     "output_type": "stream",
     "text": [
      "\n"
     ]
    }
   ],
   "source": [
    "from sklearn.metrics import mean_squared_error\n",
    "import math\n",
    "\n",
    "# Get the predictions\n",
    "predictions = []\n",
    "\n",
    "rnn.eval()\n",
    "for x_data in tqdm(x_test):\n",
    "    output = rnn(x_data)\n",
    "    predictions.append(output.detach().numpy())\n",
    "\n",
    "\n",
    "# Inverse transform the predictions\n",
    "predictions = np.array(predictions)\n",
    "predictions_flat = predictions.reshape(-1, 1)\n",
    "predictions_inv = scaler.inverse_transform(predictions_flat)\n",
    "predictions_inv = predictions_inv.reshape(predictions.shape)\n",
    "\n",
    "\n",
    "# Calculate RMSE\n",
    "rmse = math.sqrt(mean_squared_error(volume_test[1258:], predictions_inv.flatten()))\n",
    "print(f'RMSE: {rmse}')"
   ]
  },
  {
   "cell_type": "markdown",
   "metadata": {
    "id": "iFTNs3YHk6FQ"
   },
   "source": [
    "### Visualising the results"
   ]
  },
  {
   "cell_type": "code",
   "execution_count": 268,
   "metadata": {
    "id": "8OUI8U49k9tH"
   },
   "outputs": [
    {
     "data": {
      "image/png": "[encoded data removed]",
      "text/plain": [
       "<Figure size 1400x500 with 1 Axes>"
      ]
     },
     "metadata": {},
     "output_type": "display_data"
    }
   ],
   "source": [
    "# Build a visualization of the predicted and the real Stock prices of the test set\n",
    "import matplotlib.pyplot as plt\n",
    "from matplotlib.dates import DateFormatter\n",
    "\n",
    "plt.figure(figsize=(14, 5))\n",
    "plt.plot(dataset_test['Date'].iloc[1150:1280], dataset_test['Volume'].iloc[1150:1280], linestyle = '-', color = 'red' , label = 'Real Volume')\n",
    "\n",
    "plt.plot(dataset_test['Date'].iloc[1258:1280], predictions_inv.flatten(), color = 'blue', label = 'Predicted Volume')\n",
    "\n",
    "plt.xlabel('Date')\n",
    "plt.gca().xaxis.set_major_formatter(DateFormatter('%d-%m'))\n",
    "plt.gca().xaxis.set_major_locator(plt.MaxNLocator(20))\n",
    "plt.tight_layout()\n",
    "\n",
    "plt.legend()\n",
    "plt.show()"
   ]
  },
  {
   "cell_type": "markdown",
   "metadata": {
    "id": "7-e37KRKMA_I"
   },
   "source": [
    "Comment the results. How can you improve your model ? What are the different parameters you can modify ? Implement them. Do you see any change ?"
   ]
  },
  {
   "cell_type": "markdown",
   "metadata": {},
   "source": [
    "Pour améliorer le modèle on pourrait réentrainer notre modèle une fois qu'on a obtenu la vraie valeur du jour afin de maintenir une tendance constante et éviter les variations importantes dans le temps. Il est aussi possible de jouer sur les hyperparamètres du modèle."
   ]
  }
 ],
 "metadata": {
  "accelerator": "GPU",
  "colab": {
   "gpuType": "T4",
   "provenance": []
  },
  "kernelspec": {
   "display_name": "Python 3 (ipykernel)",
   "language": "python",
   "name": "python3"
  },
  "language_info": {
   "codemirror_mode": {
    "name": "ipython",
    "version": 3
   },
   "file_extension": ".py",
   "mimetype": "text/x-python",
   "name": "python",
   "nbconvert_exporter": "python",
   "pygments_lexer": "ipython3",
   "version": "3.11.9"
  }
 },
 "nbformat": 4,
 "nbformat_minor": 1
}
