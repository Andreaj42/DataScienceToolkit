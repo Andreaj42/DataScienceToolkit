{
  "cells": [
    {
      "cell_type": "markdown",
      "id": "d3c821b3",
      "metadata": {
        "id": "d3c821b3"
      },
      "source": [
        "<center> <h1> Deep Learning - Compression </h1> </center>\n",
        "<center> <h3><i> Knowledge distillation </i> </h3></center>"
      ]
    },
    {
      "cell_type": "markdown",
      "id": "8ad3e170",
      "metadata": {
        "id": "8ad3e170"
      },
      "source": [
        "# Installation & Setup\n",
        "* Import modules\n",
        "* Device configuration"
      ]
    },
    {
      "cell_type": "code",
      "execution_count": 51,
      "id": "04e19d8c",
      "metadata": {
        "scrolled": true,
        "id": "04e19d8c"
      },
      "outputs": [],
      "source": [
        "import matplotlib.pyplot as plt\n",
        "import pickle\n",
        "import numpy as np\n",
        "import base64\n",
        "\n",
        "from torch import device, cuda, optim, max\n",
        "from torchvision import transforms, datasets\n",
        "from torchvision.transforms import ToTensor, transforms\n",
        "from torch.utils.data import ConcatDataset, Subset, DataLoader, Dataset, random_split\n",
        "import torch.nn.functional as F\n",
        "import torch.nn as nn\n",
        "import torch\n",
        "from tqdm import tqdm, trange"
      ]
    },
    {
      "cell_type": "code",
      "execution_count": 52,
      "id": "cd460c42",
      "metadata": {
        "id": "cd460c42"
      },
      "outputs": [],
      "source": [
        "torch.cuda.empty_cache()\n",
        "device = torch.device(\"cuda:0\" if torch.cuda.is_available() else \"cpu\")"
      ]
    },
    {
      "cell_type": "markdown",
      "id": "de95c8d9",
      "metadata": {
        "id": "de95c8d9"
      },
      "source": [
        "# Data Acquisition and Preprocessing\n",
        "* Dataset download\n",
        "* Normalize data\n",
        "* Create dataloaders"
      ]
    },
    {
      "cell_type": "code",
      "execution_count": 53,
      "id": "f68bba6f",
      "metadata": {
        "id": "f68bba6f"
      },
      "outputs": [],
      "source": [
        "transform = transforms.Compose(\n",
        "    [transforms.ToTensor(),\n",
        "     transforms.Normalize( (0.1307,), (0.3081,))])\n",
        "\n",
        "train_data = datasets.MNIST(\n",
        "    root = 'data',\n",
        "    train = True,\n",
        "    transform = transform,\n",
        "    download = True\n",
        ")\n",
        "\n",
        "test_data = datasets.MNIST(\n",
        "    root = 'data',\n",
        "    train = False,\n",
        "    transform = transform,\n",
        "    download = True\n",
        ")"
      ]
    },
    {
      "cell_type": "code",
      "execution_count": 54,
      "id": "c6d23ea3",
      "metadata": {
        "id": "c6d23ea3"
      },
      "outputs": [],
      "source": [
        "loaders = {\n",
        "    'train' : DataLoader(train_data, batch_size=64, num_workers=16),\n",
        "    'test'  : DataLoader(test_data, batch_size=64, num_workers=16)\n",
        "}"
      ]
    },
    {
      "cell_type": "markdown",
      "id": "e448aaba",
      "metadata": {
        "id": "e448aaba"
      },
      "source": [
        "# Teacher\n",
        "* Model architecture\n",
        "* Loading parameters\n",
        "* Test model"
      ]
    },
    {
      "cell_type": "code",
      "execution_count": 55,
      "id": "8e828b49",
      "metadata": {
        "id": "8e828b49"
      },
      "outputs": [],
      "source": [
        "class Net(nn.Module):\n",
        "    def __init__(self):\n",
        "        super(Net, self).__init__()\n",
        "        self.conv1 = nn.Conv2d(1, 10, kernel_size=5)\n",
        "        self.conv2 = nn.Conv2d(10, 20, kernel_size=5)\n",
        "        self.conv2_drop = nn.Dropout2d()\n",
        "        self.fc1 = nn.Linear(320, 50)\n",
        "        self.fc2 = nn.Linear(50, 10)\n",
        "\n",
        "    def forward(self, x):\n",
        "        x = F.relu(F.max_pool2d(self.conv1(x), 2))\n",
        "        x = F.relu(F.max_pool2d(self.conv2_drop(self.conv2(x)), 2))\n",
        "        x = x.view(-1, 320)\n",
        "        x = F.relu(self.fc1(x))\n",
        "        x = F.dropout(x, training=self.training)\n",
        "        x = self.fc2(x)\n",
        "        return x\n",
        "\n",
        "    def return_param(self):\n",
        "        w = []\n",
        "        for param in self.parameters():\n",
        "            w.append(param.flatten())\n",
        "        return torch.cat(w)\n",
        "\n",
        "    def write_param(self,w):\n",
        "        with torch.no_grad():\n",
        "            for param in self.parameters():\n",
        "                w_temp = w[:np.prod(np.asarray(param.shape))].squeeze()\n",
        "                w_temp = torch.reshape(torch.Tensor(w_temp),param.shape)\n",
        "                param.copy_(w_temp)\n",
        "                w = w[np.prod(np.asarray(param.shape)):]"
      ]
    },
    {
      "cell_type": "code",
      "execution_count": 56,
      "id": "c359159f",
      "metadata": {
        "id": "c359159f"
      },
      "outputs": [],
      "source": [
        "with open(\"data_30_0.p\", \"rb\" ) as file:\n",
        "    byte = file.read()\n",
        "    decoded = base64.decodebytes(byte)\n",
        "    w_data, wy_data, wacc_data = pickle.loads(decoded)\n",
        "\n",
        "teacher = Net()\n",
        "teacher.to(device)\n",
        "\n",
        "teacher.write_param(w_data[29])"
      ]
    },
    {
      "cell_type": "code",
      "execution_count": 57,
      "id": "6cdc492c",
      "metadata": {
        "id": "6cdc492c"
      },
      "outputs": [],
      "source": [
        "def test_model(model):\n",
        "    total = 10000\n",
        "    correct = 0\n",
        "    model.eval()\n",
        "    for inputs, labels in tqdm(loaders['test'], desc = f'Test'):\n",
        "        inputs, labels = inputs.to(device), labels.to(device)\n",
        "        outputs = model(inputs)\n",
        "        _, predicted = torch.max(outputs.data, 1)\n",
        "        correct += (predicted == labels).sum().item()\n",
        "\n",
        "    accuracy = 100 * correct / total\n",
        "    return accuracy"
      ]
    },
    {
      "cell_type": "code",
      "execution_count": 58,
      "id": "06a72aa9",
      "metadata": {
        "scrolled": true,
        "id": "06a72aa9",
        "colab": {
          "base_uri": "https://localhost:8080/"
        },
        "outputId": "9716b9a9-faed-4d21-c40f-0037497bd77e"
      },
      "outputs": [
        {
          "output_type": "stream",
          "name": "stderr",
          "text": [
            "Test: 100%|██████████| 157/157 [00:05<00:00, 29.66it/s]"
          ]
        },
        {
          "output_type": "stream",
          "name": "stdout",
          "text": [
            "\n",
            "Teacher accuracy on test dataset: 98.52%\n"
          ]
        },
        {
          "output_type": "stream",
          "name": "stderr",
          "text": [
            "\n"
          ]
        }
      ],
      "source": [
        "print(f\"\\nTeacher accuracy on test dataset: {test_model(teacher)}%\")"
      ]
    },
    {
      "cell_type": "markdown",
      "id": "acdbb2ea",
      "metadata": {
        "id": "acdbb2ea"
      },
      "source": [
        "# Student 1\n",
        "Classic MLP with 2 layers train with soft labels\n",
        "* MLP Architecture\n",
        "* Train model\n",
        "* Test model"
      ]
    },
    {
      "cell_type": "code",
      "execution_count": 59,
      "id": "c7372fbc",
      "metadata": {
        "id": "c7372fbc"
      },
      "outputs": [],
      "source": [
        "class MLP(nn.Module):\n",
        "    def __init__(self):\n",
        "        super().__init__()\n",
        "        self.l1 = nn.Linear(784, 28)\n",
        "        self.l2 = nn.Linear(28, 10)\n",
        "        self.flatten = nn.Flatten()\n",
        "\n",
        "    def forward(self, x):\n",
        "        x = self.flatten(x)\n",
        "        x = self.l1(x)\n",
        "        x = torch.tanh(x)\n",
        "        x = self.l2(x)\n",
        "        return x"
      ]
    },
    {
      "cell_type": "code",
      "execution_count": 60,
      "id": "4ad6e1e1",
      "metadata": {
        "id": "4ad6e1e1",
        "colab": {
          "base_uri": "https://localhost:8080/"
        },
        "outputId": "a4648415-0992-4352-ad45-0afb541937e7"
      },
      "outputs": [
        {
          "output_type": "stream",
          "name": "stderr",
          "text": [
            "Train, Epoch n°0: 100%|██████████| 938/938 [00:40<00:00, 22.93it/s]\n",
            "Test: 100%|██████████| 157/157 [00:04<00:00, 38.45it/s]\n",
            "Train, Epoch n°1: 100%|██████████| 938/938 [00:41<00:00, 22.87it/s]\n",
            "Test: 100%|██████████| 157/157 [00:05<00:00, 29.59it/s]\n",
            "Train, Epoch n°2: 100%|██████████| 938/938 [00:39<00:00, 23.50it/s]\n",
            "Test: 100%|██████████| 157/157 [00:06<00:00, 24.83it/s]\n",
            "Train, Epoch n°3: 100%|██████████| 938/938 [00:39<00:00, 24.01it/s]\n",
            "Test: 100%|██████████| 157/157 [00:05<00:00, 27.91it/s] \n",
            "Train, Epoch n°4: 100%|██████████| 938/938 [00:39<00:00, 23.58it/s]\n",
            "Test: 100%|██████████| 157/157 [00:05<00:00, 30.00it/s]\n",
            "Train, Epoch n°5: 100%|██████████| 938/938 [00:41<00:00, 22.70it/s]\n",
            "Test: 100%|██████████| 157/157 [00:04<00:00, 37.55it/s]\n",
            "Train, Epoch n°6: 100%|██████████| 938/938 [00:41<00:00, 22.86it/s]\n",
            "Test: 100%|██████████| 157/157 [00:04<00:00, 38.50it/s] \n",
            "Train, Epoch n°7: 100%|██████████| 938/938 [00:41<00:00, 22.80it/s]\n",
            "Test: 100%|██████████| 157/157 [00:04<00:00, 38.41it/s]\n"
          ]
        }
      ],
      "source": [
        "student = MLP()\n",
        "criterion = nn.MSELoss()\n",
        "optimizer = optim.Adam(student.parameters(), lr=0.001)\n",
        "\n",
        "epochs = 8\n",
        "\n",
        "losses = []\n",
        "accuracies = []\n",
        "\n",
        "student.train()\n",
        "for epoch in range(epochs):\n",
        "    loss_t = 0\n",
        "    for data, _ in tqdm(loaders['train'], desc = f'Train, Epoch n°{epoch}'):\n",
        "        optimizer.zero_grad()\n",
        "        output_teacher = teacher(data)\n",
        "        output_student = student(data)\n",
        "        loss = criterion(output_student, output_teacher)\n",
        "        loss.backward()\n",
        "        optimizer.step()\n",
        "        loss_t += loss.item()\n",
        "    losses.append(loss_t)\n",
        "    accuracies.append(test_model(student))"
      ]
    },
    {
      "cell_type": "code",
      "execution_count": 61,
      "id": "fd33bec2",
      "metadata": {
        "scrolled": true,
        "colab": {
          "base_uri": "https://localhost:8080/"
        },
        "id": "fd33bec2",
        "outputId": "c4bb79f4-5c6d-4d94-d324-4acc2348b748"
      },
      "outputs": [
        {
          "output_type": "stream",
          "name": "stderr",
          "text": [
            "Test: 100%|██████████| 157/157 [00:06<00:00, 25.96it/s]"
          ]
        },
        {
          "output_type": "stream",
          "name": "stdout",
          "text": [
            "\n",
            "Student accuracy on test dataset: 93.13%\n"
          ]
        },
        {
          "output_type": "stream",
          "name": "stderr",
          "text": [
            "\n"
          ]
        }
      ],
      "source": [
        "print(f\"\\nStudent accuracy on test dataset: {test_model(student)}%\")"
      ]
    },
    {
      "cell_type": "code",
      "execution_count": 62,
      "id": "350df9ab",
      "metadata": {
        "id": "350df9ab",
        "colab": {
          "base_uri": "https://localhost:8080/",
          "height": 507
        },
        "outputId": "5ca9a41a-f8cb-4a47-f4e2-a240b19288ce"
      },
      "outputs": [
        {
          "output_type": "display_data",
          "data": {
            "text/plain": [
              "<Figure size 1000x500 with 2 Axes>"
            ],
            "image/png": "[encoded data removed]"
          },
          "metadata": {}
        }
      ],
      "source": [
        "fig, ax1 = plt.subplots(figsize=(10, 5))\n",
        "\n",
        "ax1.plot(range(1, epochs+1), accuracies, 'b-', label='Accuracy')\n",
        "ax1.set_xlabel('Epochs')\n",
        "ax1.set_ylabel('Accuracy', color='b')\n",
        "\n",
        "ax2 = ax1.twinx()\n",
        "ax2.plot(range(1, epochs+1), losses, 'r-', label='Loss')\n",
        "ax2.set_ylabel('Loss', color='r')\n",
        "\n",
        "fig.tight_layout()\n",
        "plt.show()\n"
      ]
    },
    {
      "cell_type": "markdown",
      "id": "02d2afd1",
      "metadata": {
        "id": "02d2afd1"
      },
      "source": [
        "# Student 2\n",
        "Classic MLP with 2 layers train with hard labels\n",
        "* MLP Architecture\n",
        "* Train model\n",
        "* Test model"
      ]
    },
    {
      "cell_type": "code",
      "execution_count": 63,
      "id": "17dbffbb",
      "metadata": {
        "scrolled": false,
        "id": "17dbffbb",
        "colab": {
          "base_uri": "https://localhost:8080/"
        },
        "outputId": "3cf2b88b-f7a6-458f-e6f9-ca3a0d19c8a9"
      },
      "outputs": [
        {
          "output_type": "stream",
          "name": "stderr",
          "text": [
            "Train, Epoch n°0: 100%|██████████| 938/938 [00:22<00:00, 41.75it/s]\n",
            "Test: 100%|██████████| 157/157 [00:04<00:00, 32.04it/s]\n",
            "Train, Epoch n°1: 100%|██████████| 938/938 [00:23<00:00, 39.86it/s]\n",
            "Test: 100%|██████████| 157/157 [00:04<00:00, 37.11it/s]\n",
            "Train, Epoch n°2: 100%|██████████| 938/938 [00:24<00:00, 38.38it/s]\n",
            "Test: 100%|██████████| 157/157 [00:04<00:00, 36.53it/s]\n",
            "Train, Epoch n°3: 100%|██████████| 938/938 [00:24<00:00, 38.19it/s] \n",
            "Test: 100%|██████████| 157/157 [00:04<00:00, 37.51it/s]\n",
            "Train, Epoch n°4: 100%|██████████| 938/938 [00:24<00:00, 38.01it/s]\n",
            "Test: 100%|██████████| 157/157 [00:04<00:00, 36.25it/s]\n",
            "Train, Epoch n°5: 100%|██████████| 938/938 [00:24<00:00, 38.66it/s]\n",
            "Test: 100%|██████████| 157/157 [00:04<00:00, 36.14it/s]\n",
            "Train, Epoch n°6: 100%|██████████| 938/938 [00:23<00:00, 39.10it/s]\n",
            "Test: 100%|██████████| 157/157 [00:04<00:00, 33.17it/s]\n",
            "Train, Epoch n°7: 100%|██████████| 938/938 [00:23<00:00, 39.36it/s]\n",
            "Test: 100%|██████████| 157/157 [00:04<00:00, 34.50it/s]\n"
          ]
        }
      ],
      "source": [
        "student2 = MLP()\n",
        "criterion = nn.CrossEntropyLoss()\n",
        "optimizer = optim.Adam(student2.parameters(), lr=0.001)\n",
        "epochs = 8\n",
        "\n",
        "losses = []\n",
        "accuracies = []\n",
        "\n",
        "student2.train()\n",
        "\n",
        "for epoch in range(epochs):\n",
        "    loss_t = 0\n",
        "    for data, label in tqdm(loaders['train'], desc = f'Train, Epoch n°{epoch}'):\n",
        "        optimizer.zero_grad()\n",
        "        output = student2(data)\n",
        "        loss = criterion(output, label)\n",
        "        loss.backward()\n",
        "        optimizer.step()\n",
        "        loss_t += loss.item()\n",
        "    losses.append(loss_t)\n",
        "    accuracies.append(test_model(student2))"
      ]
    },
    {
      "cell_type": "code",
      "execution_count": 64,
      "id": "55be1f3c",
      "metadata": {
        "scrolled": false,
        "id": "55be1f3c",
        "colab": {
          "base_uri": "https://localhost:8080/",
          "height": 506
        },
        "outputId": "cf3f2734-6dd3-4957-b1cb-361307d49277"
      },
      "outputs": [
        {
          "output_type": "display_data",
          "data": {
            "text/plain": [
              "<Figure size 1000x500 with 2 Axes>"
            ],
            "image/png": "[encoded data removed]"
          },
          "metadata": {}
        }
      ],
      "source": [
        "fig, ax1 = plt.subplots(figsize=(10, 5))\n",
        "\n",
        "ax1.plot(range(1, epochs+1), accuracies, 'b-', label='Accuracy')\n",
        "ax1.set_xlabel('Epochs')\n",
        "ax1.set_ylabel('Accuracy', color='b')\n",
        "\n",
        "ax2 = ax1.twinx()\n",
        "ax2.plot(range(1, epochs+1), losses, 'r-', label='Loss')\n",
        "ax2.set_ylabel('Loss', color='r')\n",
        "\n",
        "fig.tight_layout()\n",
        "plt.show()"
      ]
    },
    {
      "cell_type": "code",
      "execution_count": 65,
      "id": "6db4dbb7",
      "metadata": {
        "scrolled": true,
        "id": "6db4dbb7",
        "colab": {
          "base_uri": "https://localhost:8080/"
        },
        "outputId": "86dfab2d-9be4-4239-fb45-ac071276df00"
      },
      "outputs": [
        {
          "output_type": "stream",
          "name": "stderr",
          "text": [
            "Test: 100%|██████████| 157/157 [00:04<00:00, 37.04it/s]"
          ]
        },
        {
          "output_type": "stream",
          "name": "stdout",
          "text": [
            "\n",
            "Student2 accuracy on test dataset: 94.53%\n"
          ]
        },
        {
          "output_type": "stream",
          "name": "stderr",
          "text": [
            "\n"
          ]
        }
      ],
      "source": [
        "print(f\"\\nStudent2 accuracy on test dataset: {test_model(student2)}%\")"
      ]
    },
    {
      "cell_type": "markdown",
      "id": "2105a9fd",
      "metadata": {
        "id": "2105a9fd"
      },
      "source": [
        "# Accuracy by parameter\n",
        "The teacher model have 21840 parameters.  \n",
        "We will build and evaluate different MLP model structures to see how the number of parameters influences the accuracy of our models.  \n",
        "Number of parameters : 7840, 9k, 10k, 11k, 12k, 13k, 14k, 15k, 16k, 17k, 18k, 19k, 20k, 21k"
      ]
    },
    {
      "cell_type": "markdown",
      "id": "de61761c",
      "metadata": {
        "id": "de61761c"
      },
      "source": [
        "Notre MLP possède deux couches, la première couche d'entrée et la dernière couche de sortie possèdent des tailles fixes respectivemet 784 et 10.  \n",
        "Nous ne pouvons donc jouer uniqueemnt sur une valeur.  \n",
        "Le calcul du nombre de paramètres est donc le suivant :  \n",
        "nb_param = 784 * x + x * 10 (avec x un entier)  \n",
        "=> nb_param = x * (784 + 10) = 794 * x  \n",
        "=> x = nb_param / 794  \n",
        "\n",
        "Par exemple, pour nb_param = 7840  \n",
        "x = 7840 / 794 = 9.87 = 10"
      ]
    },
    {
      "cell_type": "code",
      "execution_count": 66,
      "id": "ba2a31d2",
      "metadata": {
        "id": "ba2a31d2"
      },
      "outputs": [],
      "source": [
        "nb_param = [7840, 9000, 10000, 11000, 12000, 13000, 14000, 15000, 16000, 17000, 18000, 19000, 20000, 21000]"
      ]
    },
    {
      "cell_type": "code",
      "execution_count": 67,
      "id": "5394ce6e",
      "metadata": {
        "id": "5394ce6e"
      },
      "outputs": [],
      "source": [
        "x = [int(i/794)+1 for i in nb_param]"
      ]
    },
    {
      "cell_type": "code",
      "execution_count": 68,
      "id": "cabb6f24",
      "metadata": {
        "id": "cabb6f24"
      },
      "outputs": [],
      "source": [
        "class MLP(nn.Module):\n",
        "    def __init__(self, size):\n",
        "        super().__init__()\n",
        "        self.l1 = nn.Linear(784, size)\n",
        "        self.l2 = nn.Linear(size, 10)\n",
        "        self.flatten = nn.Flatten()\n",
        "\n",
        "    def forward(self, x):\n",
        "        x = self.flatten(x)\n",
        "        x = self.l1(x)\n",
        "        x = torch.tanh(x)\n",
        "        x = self.l2(x)\n",
        "        return x"
      ]
    },
    {
      "cell_type": "code",
      "execution_count": null,
      "id": "8b5dcf5d",
      "metadata": {
        "id": "8b5dcf5d",
        "colab": {
          "base_uri": "https://localhost:8080/"
        },
        "outputId": "d951f827-00cb-4a64-a42c-4816c82b19f0"
      },
      "outputs": [
        {
          "metadata": {
            "tags": null
          },
          "name": "stdout",
          "output_type": "stream",
          "text": [
            "Train model with 7840 parameters\n"
          ]
        },
        {
          "metadata": {
            "tags": null
          },
          "name": "stderr",
          "output_type": "stream",
          "text": [
            "Train, Epoch n°0: 100%|██████████| 938/938 [00:40<00:00, 22.93it/s]\n",
            "Train, Epoch n°1: 100%|██████████| 938/938 [00:40<00:00, 23.12it/s]\n",
            "Train, Epoch n°2: 100%|██████████| 938/938 [00:40<00:00, 23.28it/s]\n",
            "Train, Epoch n°3: 100%|██████████| 938/938 [00:38<00:00, 24.43it/s]\n",
            "Train, Epoch n°4: 100%|██████████| 938/938 [00:40<00:00, 23.21it/s]\n",
            "Train, Epoch n°5: 100%|██████████| 938/938 [00:40<00:00, 23.23it/s]\n",
            "Train, Epoch n°6: 100%|██████████| 938/938 [00:39<00:00, 23.62it/s]\n",
            "Train, Epoch n°7: 100%|██████████| 938/938 [00:38<00:00, 24.41it/s]\n",
            "Test: 100%|██████████| 157/157 [00:05<00:00, 28.74it/s]\n"
          ]
        },
        {
          "metadata": {
            "tags": null
          },
          "name": "stdout",
          "output_type": "stream",
          "text": [
            "Train model with 9000 parameters\n"
          ]
        },
        {
          "metadata": {
            "tags": null
          },
          "name": "stderr",
          "output_type": "stream",
          "text": [
            "Train, Epoch n°0: 100%|██████████| 938/938 [00:38<00:00, 24.11it/s]\n",
            "Train, Epoch n°1: 100%|██████████| 938/938 [00:39<00:00, 23.81it/s]\n",
            "Train, Epoch n°2: 100%|██████████| 938/938 [00:40<00:00, 23.43it/s]\n",
            "Train, Epoch n°3: 100%|██████████| 938/938 [00:40<00:00, 23.41it/s]\n",
            "Train, Epoch n°4: 100%|██████████| 938/938 [00:39<00:00, 23.86it/s]\n",
            "Train, Epoch n°5: 100%|██████████| 938/938 [00:38<00:00, 24.10it/s]\n",
            "Train, Epoch n°6: 100%|██████████| 938/938 [00:40<00:00, 23.09it/s]\n",
            "Train, Epoch n°7: 100%|██████████| 938/938 [00:40<00:00, 22.93it/s]\n",
            "Test: 100%|██████████| 157/157 [00:04<00:00, 35.35it/s]\n"
          ]
        },
        {
          "metadata": {
            "tags": null
          },
          "name": "stdout",
          "output_type": "stream",
          "text": [
            "Train model with 10000 parameters\n"
          ]
        },
        {
          "metadata": {
            "tags": null
          },
          "name": "stderr",
          "output_type": "stream",
          "text": [
            "Train, Epoch n°0: 100%|██████████| 938/938 [00:40<00:00, 23.19it/s]\n",
            "Train, Epoch n°1: 100%|██████████| 938/938 [00:40<00:00, 23.00it/s]\n",
            "Train, Epoch n°2: 100%|██████████| 938/938 [00:39<00:00, 23.52it/s]\n",
            "Train, Epoch n°3: 100%|██████████| 938/938 [00:39<00:00, 23.81it/s]\n",
            "Train, Epoch n°4: 100%|██████████| 938/938 [00:40<00:00, 23.07it/s]\n",
            "Train, Epoch n°5: 100%|██████████| 938/938 [00:40<00:00, 23.12it/s]\n",
            "Train, Epoch n°6: 100%|██████████| 938/938 [00:40<00:00, 22.96it/s]\n",
            "Train, Epoch n°7: 100%|██████████| 938/938 [00:40<00:00, 23.44it/s]\n",
            "Test: 100%|██████████| 157/157 [00:04<00:00, 32.29it/s]\n"
          ]
        },
        {
          "metadata": {
            "tags": null
          },
          "name": "stdout",
          "output_type": "stream",
          "text": [
            "Train model with 11000 parameters\n"
          ]
        },
        {
          "metadata": {
            "tags": null
          },
          "name": "stderr",
          "output_type": "stream",
          "text": [
            "Train, Epoch n°0: 100%|██████████| 938/938 [00:40<00:00, 23.22it/s]\n",
            "Train, Epoch n°1: 100%|██████████| 938/938 [00:38<00:00, 24.36it/s]\n",
            "Train, Epoch n°2: 100%|██████████| 938/938 [00:40<00:00, 23.36it/s]\n",
            "Train, Epoch n°3: 100%|██████████| 938/938 [00:40<00:00, 23.03it/s]\n",
            "Train, Epoch n°4: 100%|██████████| 938/938 [00:40<00:00, 23.13it/s]\n",
            "Train, Epoch n°5: 100%|██████████| 938/938 [00:40<00:00, 23.37it/s]\n",
            "Train, Epoch n°6: 100%|██████████| 938/938 [00:39<00:00, 23.62it/s]\n",
            "Train, Epoch n°7: 100%|██████████| 938/938 [00:40<00:00, 22.93it/s]\n",
            "Test: 100%|██████████| 157/157 [00:05<00:00, 30.43it/s]\n"
          ]
        },
        {
          "metadata": {
            "tags": null
          },
          "name": "stdout",
          "output_type": "stream",
          "text": [
            "Train model with 12000 parameters\n"
          ]
        },
        {
          "metadata": {
            "tags": null
          },
          "name": "stderr",
          "output_type": "stream",
          "text": [
            "Train, Epoch n°0: 100%|██████████| 938/938 [00:39<00:00, 23.83it/s]\n",
            "Train, Epoch n°1: 100%|██████████| 938/938 [00:40<00:00, 23.02it/s]\n",
            "Train, Epoch n°2: 100%|██████████| 938/938 [00:40<00:00, 23.24it/s]\n",
            "Train, Epoch n°3: 100%|██████████| 938/938 [00:40<00:00, 23.30it/s]\n",
            "Train, Epoch n°4: 100%|██████████| 938/938 [00:39<00:00, 23.82it/s]\n",
            "Train, Epoch n°5: 100%|██████████| 938/938 [00:39<00:00, 23.55it/s]\n",
            "Train, Epoch n°6: 100%|██████████| 938/938 [00:40<00:00, 23.17it/s]\n",
            "Train, Epoch n°7: 100%|██████████| 938/938 [00:40<00:00, 23.15it/s]\n",
            "Test: 100%|██████████| 157/157 [00:04<00:00, 37.08it/s] \n"
          ]
        },
        {
          "metadata": {
            "tags": null
          },
          "name": "stdout",
          "output_type": "stream",
          "text": [
            "Train model with 13000 parameters\n"
          ]
        },
        {
          "metadata": {
            "tags": null
          },
          "name": "stderr",
          "output_type": "stream",
          "text": [
            "Train, Epoch n°0: 100%|██████████| 938/938 [00:40<00:00, 23.26it/s]\n",
            "Train, Epoch n°1: 100%|██████████| 938/938 [00:40<00:00, 23.14it/s]\n",
            "Train, Epoch n°2: 100%|██████████| 938/938 [00:38<00:00, 24.12it/s]\n",
            "Train, Epoch n°3: 100%|██████████| 938/938 [00:39<00:00, 23.52it/s]\n",
            "Train, Epoch n°4: 100%|██████████| 938/938 [00:40<00:00, 23.14it/s]\n",
            "Train, Epoch n°5: 100%|██████████| 938/938 [00:41<00:00, 22.86it/s]\n",
            "Train, Epoch n°6: 100%|██████████| 938/938 [00:40<00:00, 23.14it/s]\n",
            "Train, Epoch n°7: 100%|██████████| 938/938 [00:39<00:00, 23.57it/s]\n",
            "Test: 100%|██████████| 157/157 [00:05<00:00, 26.60it/s]\n"
          ]
        },
        {
          "metadata": {
            "tags": null
          },
          "name": "stdout",
          "output_type": "stream",
          "text": [
            "Train model with 14000 parameters\n"
          ]
        },
        {
          "metadata": {
            "tags": null
          },
          "name": "stderr",
          "output_type": "stream",
          "text": [
            "Train, Epoch n°0: 100%|██████████| 938/938 [00:41<00:00, 22.74it/s]\n",
            "Train, Epoch n°1: 100%|██████████| 938/938 [00:39<00:00, 23.53it/s]\n",
            "Train, Epoch n°2: 100%|██████████| 938/938 [00:40<00:00, 23.13it/s]\n",
            "Train, Epoch n°3: 100%|██████████| 938/938 [00:41<00:00, 22.63it/s]\n",
            "Train, Epoch n°4: 100%|██████████| 938/938 [00:41<00:00, 22.49it/s]\n",
            "Train, Epoch n°5: 100%|██████████| 938/938 [00:43<00:00, 21.60it/s]\n",
            "Train, Epoch n°6: 100%|██████████| 938/938 [00:43<00:00, 21.70it/s]\n",
            "Train, Epoch n°7: 100%|██████████| 938/938 [00:42<00:00, 21.90it/s]\n",
            "Test: 100%|██████████| 157/157 [00:04<00:00, 35.81it/s]\n"
          ]
        },
        {
          "metadata": {
            "tags": null
          },
          "name": "stdout",
          "output_type": "stream",
          "text": [
            "Train model with 15000 parameters\n"
          ]
        },
        {
          "metadata": {
            "tags": null
          },
          "name": "stderr",
          "output_type": "stream",
          "text": [
            "Train, Epoch n°0: 100%|██████████| 938/938 [00:41<00:00, 22.65it/s]\n",
            "Train, Epoch n°1: 100%|██████████| 938/938 [00:41<00:00, 22.75it/s]\n",
            "Train, Epoch n°2: 100%|██████████| 938/938 [00:39<00:00, 23.52it/s]\n",
            "Train, Epoch n°3: 100%|██████████| 938/938 [00:40<00:00, 23.20it/s]\n",
            "Train, Epoch n°4: 100%|██████████| 938/938 [00:40<00:00, 22.91it/s]\n",
            "Train, Epoch n°5: 100%|██████████| 938/938 [00:40<00:00, 22.89it/s]\n",
            "Train, Epoch n°6: 100%|██████████| 938/938 [00:40<00:00, 23.06it/s]\n",
            "Train, Epoch n°7: 100%|██████████| 938/938 [00:40<00:00, 23.36it/s]\n",
            "Test: 100%|██████████| 157/157 [00:04<00:00, 34.69it/s]\n"
          ]
        },
        {
          "metadata": {
            "tags": null
          },
          "name": "stdout",
          "output_type": "stream",
          "text": [
            "Train model with 16000 parameters\n"
          ]
        },
        {
          "metadata": {
            "tags": null
          },
          "name": "stderr",
          "output_type": "stream",
          "text": [
            "Train, Epoch n°0: 100%|██████████| 938/938 [00:40<00:00, 22.94it/s]\n",
            "Train, Epoch n°1: 100%|██████████| 938/938 [00:40<00:00, 22.97it/s]\n",
            "Train, Epoch n°2: 100%|██████████| 938/938 [00:39<00:00, 23.98it/s]\n",
            "Train, Epoch n°3: 100%|██████████| 938/938 [00:40<00:00, 23.17it/s]\n",
            "Train, Epoch n°4: 100%|██████████| 938/938 [00:40<00:00, 22.94it/s]\n",
            "Train, Epoch n°5: 100%|██████████| 938/938 [00:40<00:00, 22.98it/s]\n",
            "Train, Epoch n°6: 100%|██████████| 938/938 [00:40<00:00, 23.01it/s]\n",
            "Train, Epoch n°7: 100%|██████████| 938/938 [00:43<00:00, 21.78it/s]\n",
            "Test: 100%|██████████| 157/157 [00:04<00:00, 33.49it/s]\n"
          ]
        },
        {
          "metadata": {
            "tags": null
          },
          "name": "stdout",
          "output_type": "stream",
          "text": [
            "Train model with 17000 parameters\n"
          ]
        },
        {
          "metadata": {
            "tags": null
          },
          "name": "stderr",
          "output_type": "stream",
          "text": [
            "Train, Epoch n°0: 100%|██████████| 938/938 [00:42<00:00, 21.86it/s]\n",
            "Train, Epoch n°1: 100%|██████████| 938/938 [00:41<00:00, 22.56it/s]\n",
            "Train, Epoch n°2: 100%|██████████| 938/938 [00:40<00:00, 23.29it/s]\n",
            "Train, Epoch n°3: 100%|██████████| 938/938 [00:40<00:00, 23.17it/s]\n",
            "Train, Epoch n°4: 100%|██████████| 938/938 [00:41<00:00, 22.66it/s]\n",
            "Train, Epoch n°5: 100%|██████████| 938/938 [00:41<00:00, 22.73it/s]\n",
            "Train, Epoch n°6: 100%|██████████| 938/938 [00:40<00:00, 23.08it/s]\n",
            "Train, Epoch n°7: 100%|██████████| 938/938 [00:38<00:00, 24.12it/s]\n",
            "Test: 100%|██████████| 157/157 [00:04<00:00, 32.94it/s] \n"
          ]
        },
        {
          "metadata": {
            "tags": null
          },
          "name": "stdout",
          "output_type": "stream",
          "text": [
            "Train model with 18000 parameters\n"
          ]
        },
        {
          "metadata": {
            "tags": null
          },
          "name": "stderr",
          "output_type": "stream",
          "text": [
            "Train, Epoch n°0: 100%|██████████| 938/938 [00:40<00:00, 23.30it/s]\n",
            "Train, Epoch n°1: 100%|██████████| 938/938 [00:39<00:00, 23.99it/s]\n",
            "Train, Epoch n°2: 100%|██████████| 938/938 [00:39<00:00, 24.03it/s]\n",
            "Train, Epoch n°3: 100%|██████████| 938/938 [00:39<00:00, 23.51it/s]\n",
            "Train, Epoch n°4: 100%|██████████| 938/938 [00:39<00:00, 23.73it/s]\n",
            "Train, Epoch n°5: 100%|██████████| 938/938 [00:39<00:00, 24.00it/s]\n",
            "Train, Epoch n°6: 100%|██████████| 938/938 [00:38<00:00, 24.40it/s]\n",
            "Train, Epoch n°7: 100%|██████████| 938/938 [00:37<00:00, 24.89it/s]\n",
            "Test: 100%|██████████| 157/157 [00:05<00:00, 27.40it/s]\n"
          ]
        },
        {
          "metadata": {
            "tags": null
          },
          "name": "stdout",
          "output_type": "stream",
          "text": [
            "Train model with 19000 parameters\n"
          ]
        },
        {
          "metadata": {
            "tags": null
          },
          "name": "stderr",
          "output_type": "stream",
          "text": [
            "Train, Epoch n°0: 100%|██████████| 938/938 [00:37<00:00, 25.20it/s]\n",
            "Train, Epoch n°1: 100%|██████████| 938/938 [00:38<00:00, 24.37it/s]\n",
            "Train, Epoch n°2: 100%|██████████| 938/938 [00:38<00:00, 24.39it/s]\n",
            "Train, Epoch n°3: 100%|██████████| 938/938 [00:38<00:00, 24.30it/s]\n",
            "Train, Epoch n°4: 100%|██████████| 938/938 [00:36<00:00, 25.39it/s]\n",
            "Train, Epoch n°5: 100%|██████████| 938/938 [00:38<00:00, 24.57it/s]\n",
            "Train, Epoch n°6: 100%|██████████| 938/938 [00:38<00:00, 24.22it/s]\n",
            "Train, Epoch n°7: 100%|██████████| 938/938 [00:38<00:00, 24.37it/s]\n",
            "Test: 100%|██████████| 157/157 [00:04<00:00, 36.08it/s]\n"
          ]
        },
        {
          "metadata": {
            "tags": null
          },
          "name": "stdout",
          "output_type": "stream",
          "text": [
            "Train model with 20000 parameters\n"
          ]
        },
        {
          "metadata": {
            "tags": null
          },
          "name": "stderr",
          "output_type": "stream",
          "text": [
            "Train, Epoch n°0: 100%|██████████| 938/938 [00:38<00:00, 24.66it/s]\n",
            "Train, Epoch n°1: 100%|██████████| 938/938 [00:37<00:00, 24.99it/s]\n",
            "Train, Epoch n°2: 100%|██████████| 938/938 [00:37<00:00, 24.75it/s]\n",
            "Train, Epoch n°3: 100%|██████████| 938/938 [00:38<00:00, 24.30it/s]\n",
            "Train, Epoch n°4: 100%|██████████| 938/938 [00:38<00:00, 24.20it/s]\n",
            "Train, Epoch n°5: 100%|██████████| 938/938 [00:38<00:00, 24.50it/s]\n",
            "Train, Epoch n°6: 100%|██████████| 938/938 [00:37<00:00, 24.91it/s]\n",
            "Train, Epoch n°7: 100%|██████████| 938/938 [00:38<00:00, 24.23it/s]\n",
            "Test: 100%|██████████| 157/157 [00:04<00:00, 33.47it/s]\n"
          ]
        },
        {
          "metadata": {
            "tags": null
          },
          "name": "stdout",
          "output_type": "stream",
          "text": [
            "Train model with 21000 parameters\n"
          ]
        },
        {
          "output_type": "stream",
          "name": "stderr",
          "text": [
            "Train, Epoch n°0: 100%|██████████| 938/938 [00:37<00:00, 24.73it/s]\n",
            "Train, Epoch n°1: 100%|██████████| 938/938 [00:38<00:00, 24.32it/s]\n",
            "Train, Epoch n°2: 100%|██████████| 938/938 [00:39<00:00, 23.78it/s]\n",
            "Train, Epoch n°3:  25%|██▍       | 230/938 [00:11<00:42, 16.85it/s]"
          ]
        }
      ],
      "source": [
        "accuracies = []\n",
        "\n",
        "for i, p in enumerate(x):\n",
        "    model = MLP(p)\n",
        "    criterion = nn.MSELoss()\n",
        "    optimizer = optim.Adam(model.parameters(), lr=0.001)\n",
        "    epochs = 8\n",
        "\n",
        "    model.train()\n",
        "    print(f\"Train model with {nb_param[i]} parameters\")\n",
        "    for epoch in range(epochs):\n",
        "        for data, _ in tqdm(loaders['train'], desc = f'Train, Epoch n°{epoch}'):\n",
        "            optimizer.zero_grad()\n",
        "            output_teacher = teacher(data)\n",
        "            output_student = model(data)\n",
        "            loss = criterion(output_student, output_teacher)\n",
        "            loss.backward()\n",
        "            optimizer.step()\n",
        "    accuracies.append(test_model(model))"
      ]
    },
    {
      "cell_type": "code",
      "execution_count": 71,
      "id": "1d838038",
      "metadata": {
        "id": "1d838038",
        "colab": {
          "base_uri": "https://localhost:8080/",
          "height": 452
        },
        "outputId": "ffaf5340-19a9-4527-d3d1-81b653aac5b6"
      },
      "outputs": [
        {
          "output_type": "display_data",
          "data": {
            "text/plain": [
              "<Figure size 640x480 with 1 Axes>"
            ],
            "image/png": "[encoded data removed]"
          },
          "metadata": {}
        }
      ],
      "source": [
        "plt.plot(nb_param, accuracies)\n",
        "\n",
        "plt.title('Accuracy according to the number of parameters')\n",
        "plt.grid()\n",
        "plt.show()"
      ]
    },
    {
      "cell_type": "code",
      "execution_count": null,
      "id": "40346842",
      "metadata": {
        "id": "40346842"
      },
      "outputs": [],
      "source": []
    }
  ],
  "metadata": {
    "kernelspec": {
      "display_name": "Python 3 (ipykernel)",
      "language": "python",
      "name": "python3"
    },
    "language_info": {
      "codemirror_mode": {
        "name": "ipython",
        "version": 3
      },
      "file_extension": ".py",
      "mimetype": "text/x-python",
      "name": "python",
      "nbconvert_exporter": "python",
      "pygments_lexer": "ipython3",
      "version": "3.9.12"
    },
    "colab": {
      "provenance": []
    }
  },
  "nbformat": 4,
  "nbformat_minor": 5
}