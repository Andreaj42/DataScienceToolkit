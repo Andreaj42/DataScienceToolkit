{
 "cells": [
  {
   "cell_type": "markdown",
   "id": "2c2a5fdf",
   "metadata": {},
   "source": [
    "<center> <h1> Deep Learning - MLP & CNN </h1> </center>\n",
    "<center> <h3><i> With MNIST dataset</i> </h3></center>"
   ]
  },
  {
   "cell_type": "markdown",
   "id": "85d314a1",
   "metadata": {},
   "source": [
    "## Imports"
   ]
  },
  {
   "cell_type": "code",
   "execution_count": 33,
   "id": "3a834a2e",
   "metadata": {},
   "outputs": [],
   "source": [
    "import torch\n",
    "import torch.nn as nn\n",
    "import torch.nn.functional as F\n",
    "from tqdm import tqdm\n",
    "from torch import no_grad, optim, max\n",
    "from torchvision import transforms, datasets\n",
    "from torch.utils.data import DataLoader"
   ]
  },
  {
   "cell_type": "markdown",
   "id": "b6f14dba",
   "metadata": {},
   "source": [
    "## Data Prep\n",
    "* Download MNIST datasets\n",
    "* Create Dataloaders"
   ]
  },
  {
   "cell_type": "code",
   "execution_count": 34,
   "id": "f60286b3",
   "metadata": {
    "scrolled": false
   },
   "outputs": [],
   "source": [
    "transform = transforms.Compose([transforms.ToTensor(), transforms.Normalize((0.5,), (0.5,))])\n",
    "\n",
    "train_dataset = datasets.MNIST(root='./data', train=True, download=True, transform=transform)\n",
    "test_dataset = datasets.MNIST(root='./data', train=False, download=True, transform=transform)"
   ]
  },
  {
   "cell_type": "code",
   "execution_count": 35,
   "id": "4f86b6a9",
   "metadata": {},
   "outputs": [],
   "source": [
    "train_loader = DataLoader(dataset=train_dataset, batch_size=64, shuffle=True)\n",
    "test_loader = DataLoader(dataset=test_dataset, batch_size=64, shuffle=False)"
   ]
  },
  {
   "cell_type": "markdown",
   "id": "33a9665a",
   "metadata": {},
   "source": [
    "## Models\n",
    "* MLP with 2 layers\n",
    "* CNN"
   ]
  },
  {
   "cell_type": "code",
   "execution_count": 36,
   "id": "f0ac8a6a",
   "metadata": {},
   "outputs": [],
   "source": [
    "class MLP(nn.Module):\n",
    "    def __init__(self):\n",
    "        super(MLP, self).__init__()\n",
    "        self.flatten = nn.Flatten()\n",
    "        self.fc1 = nn.Linear(28 * 28, 128)\n",
    "        self.relu = nn.ReLU()\n",
    "        self.fc2 = nn.Linear(128, 10)\n",
    "\n",
    "    def forward(self, x):\n",
    "        x = self.flatten(x)\n",
    "        x = self.fc1(x)\n",
    "        x = self.relu(x)\n",
    "        x = self.fc2(x)\n",
    "        return x"
   ]
  },
  {
   "cell_type": "code",
   "execution_count": 37,
   "id": "5ff97fea",
   "metadata": {},
   "outputs": [],
   "source": [
    "class CNN(nn.Module):\n",
    "    def __init__(self):\n",
    "        super(CNN, self).__init__()\n",
    "        self.conv1 = nn.Conv2d(1, 32, kernel_size=3, stride=1, padding=1)\n",
    "        self.relu = nn.ReLU()\n",
    "        self.maxpool = nn.MaxPool2d(kernel_size=2, stride=2)\n",
    "        self.flatten = nn.Flatten()\n",
    "        self.fc1 = nn.Linear(32 * 14 * 14, 128)\n",
    "        self.fc2 = nn.Linear(128, 10)\n",
    "\n",
    "    def forward(self, x):\n",
    "        x = self.conv1(x)\n",
    "        x = self.relu(x)\n",
    "        x = self.maxpool(x)\n",
    "        x = self.flatten(x)\n",
    "        x = self.fc1(x)\n",
    "        x = self.relu(x)\n",
    "        x = self.fc2(x)\n",
    "        return x"
   ]
  },
  {
   "cell_type": "markdown",
   "id": "43bd9a05",
   "metadata": {},
   "source": [
    "## MLP\n",
    "* Train\n",
    "* Evaluate"
   ]
  },
  {
   "cell_type": "code",
   "execution_count": 38,
   "id": "cb54057e",
   "metadata": {},
   "outputs": [
    {
     "name": "stderr",
     "output_type": "stream",
     "text": [
      "100%|██████████| 938/938 [01:06<00:00, 14.11it/s]\n",
      "100%|██████████| 938/938 [01:06<00:00, 14.07it/s]\n",
      "100%|██████████| 938/938 [01:01<00:00, 15.37it/s]\n",
      "100%|██████████| 938/938 [00:54<00:00, 17.20it/s]\n",
      "100%|██████████| 938/938 [01:00<00:00, 15.61it/s]\n"
     ]
    }
   ],
   "source": [
    "mlp = MLP()\n",
    "criterion = nn.CrossEntropyLoss()\n",
    "optimizer = optim.Adam(mlp.parameters(), lr=0.001)\n",
    "\n",
    "epochs = 5\n",
    "\n",
    "mlp.train()\n",
    "for epoch in range(epochs):\n",
    "    for data, target in tqdm(train_loader):\n",
    "        optimizer.zero_grad()\n",
    "        output = mlp(data)\n",
    "        loss = criterion(output, target)\n",
    "        loss.backward()\n",
    "        optimizer.step()"
   ]
  },
  {
   "cell_type": "code",
   "execution_count": 39,
   "id": "a8c25fc4",
   "metadata": {},
   "outputs": [
    {
     "name": "stderr",
     "output_type": "stream",
     "text": [
      "100%|██████████| 157/157 [00:09<00:00, 16.63it/s]\n"
     ]
    },
    {
     "name": "stdout",
     "output_type": "stream",
     "text": [
      "MLP model accuracy on test dataset: 95.9500%\n"
     ]
    }
   ],
   "source": [
    "nb_right = 0\n",
    "nb = 0\n",
    "\n",
    "mlp.eval()\n",
    "for data, target in tqdm(test_loader):\n",
    "    output = mlp(data)\n",
    "    nb_right += torch.sum(torch.argmax(output, axis=1) == target)\n",
    "    nb += output.shape[0]\n",
    "    \n",
    "print(f\"MLP model accuracy on test dataset: {100*nb_right/nb:.4f}%\")"
   ]
  },
  {
   "cell_type": "markdown",
   "id": "65bfff2f",
   "metadata": {},
   "source": [
    "## CNN\n",
    "* Train\n",
    "* Evaluate"
   ]
  },
  {
   "cell_type": "code",
   "execution_count": 40,
   "id": "f0838501",
   "metadata": {},
   "outputs": [
    {
     "name": "stderr",
     "output_type": "stream",
     "text": [
      "100%|██████████| 938/938 [01:00<00:00, 15.52it/s]\n",
      "100%|██████████| 938/938 [00:58<00:00, 16.03it/s]\n",
      "100%|██████████| 938/938 [01:00<00:00, 15.41it/s]\n",
      "100%|██████████| 938/938 [01:02<00:00, 14.89it/s]\n",
      "100%|██████████| 938/938 [00:58<00:00, 16.14it/s]\n"
     ]
    }
   ],
   "source": [
    "cnn = CNN()\n",
    "criterion = nn.CrossEntropyLoss()\n",
    "optimizer = optim.Adam(cnn.parameters(), lr=0.001)\n",
    "\n",
    "epochs = 5\n",
    "\n",
    "cnn.train()\n",
    "for epoch in range(epochs):\n",
    "    for data, target in tqdm(train_loader):\n",
    "        optimizer.zero_grad()\n",
    "        output = cnn(data)\n",
    "        loss = criterion(output, target)\n",
    "        loss.backward()\n",
    "        optimizer.step()"
   ]
  },
  {
   "cell_type": "code",
   "execution_count": 42,
   "id": "655aec4b",
   "metadata": {},
   "outputs": [
    {
     "name": "stderr",
     "output_type": "stream",
     "text": [
      "100%|██████████| 157/157 [00:12<00:00, 12.94it/s]"
     ]
    },
    {
     "name": "stdout",
     "output_type": "stream",
     "text": [
      "CNN model accuracy on test dataset: 98.1500%\n"
     ]
    },
    {
     "name": "stderr",
     "output_type": "stream",
     "text": [
      "\n"
     ]
    }
   ],
   "source": [
    "nb_right = 0\n",
    "nb = 0\n",
    "\n",
    "cnn.eval()\n",
    "for data, target in tqdm(test_loader):\n",
    "    output = cnn(data)\n",
    "    nb_right += torch.sum(torch.argmax(output, axis=1) == target)\n",
    "    nb += output.shape[0]\n",
    "    \n",
    "print(f\"CNN model accuracy on test dataset: {100*nb_right/nb:.4f}%\")"
   ]
  },
  {
   "cell_type": "code",
   "execution_count": null,
   "id": "e6c75b18",
   "metadata": {},
   "outputs": [],
   "source": []
  }
 ],
 "metadata": {
  "kernelspec": {
   "display_name": "Python 3 (ipykernel)",
   "language": "python",
   "name": "python3"
  },
  "language_info": {
   "codemirror_mode": {
    "name": "ipython",
    "version": 3
   },
   "file_extension": ".py",
   "mimetype": "text/x-python",
   "name": "python",
   "nbconvert_exporter": "python",
   "pygments_lexer": "ipython3",
   "version": "3.9.12"
  }
 },
 "nbformat": 4,
 "nbformat_minor": 5
}
